{
 "cells": [
  {
   "cell_type": "markdown",
   "metadata": {},
   "source": [
    "# ML iris dataset\n",
    "Taken from https://www.youtube.com/watch?v=tNa99PG8hR8\n",
    "\n",
    "ML using the famous iris dataset"
   ]
  },
  {
   "cell_type": "code",
   "execution_count": 147,
   "metadata": {},
   "outputs": [
    {
     "name": "stdout",
     "output_type": "stream",
     "text": [
      "['sepal length (cm)', 'sepal width (cm)', 'petal length (cm)', 'petal width (cm)']\n",
      "['setosa' 'versicolor' 'virginica']\n",
      "[ 5.1  3.5  1.4  0.2]\n",
      "0\n"
     ]
    }
   ],
   "source": [
    "import numpy as np\n",
    "from sklearn.datasets import load_iris\n",
    "from sklearn import tree\n",
    "\n",
    "class_names = iris.target_names\n",
    "\n",
    "iris = load_iris()\n",
    "print(iris.feature_names)\n",
    "print(class_names)\n",
    "print(iris.data[0])\n",
    "print(iris.target[0])"
   ]
  },
  {
   "cell_type": "code",
   "execution_count": 148,
   "metadata": {},
   "outputs": [
    {
     "name": "stdout",
     "output_type": "stream",
     "text": [
      "Row 0\t: Features [ 5.1  3.5  1.4  0.2] : Label 0\n",
      "Row 1\t: Features [ 4.9  3.   1.4  0.2] : Label 0\n",
      "Row 2\t: Features [ 4.7  3.2  1.3  0.2] : Label 0\n",
      "Row 3\t: Features [ 4.6  3.1  1.5  0.2] : Label 0\n",
      "Row 4\t: Features [ 5.   3.6  1.4  0.2] : Label 0\n",
      "Row 5\t: Features [ 5.4  3.9  1.7  0.4] : Label 0\n",
      "Row 6\t: Features [ 4.6  3.4  1.4  0.3] : Label 0\n",
      "Row 7\t: Features [ 5.   3.4  1.5  0.2] : Label 0\n",
      "Row 8\t: Features [ 4.4  2.9  1.4  0.2] : Label 0\n",
      "Row 9\t: Features [ 4.9  3.1  1.5  0.1] : Label 0\n",
      "Row 10\t: Features [ 5.4  3.7  1.5  0.2] : Label 0\n",
      "Row 11\t: Features [ 4.8  3.4  1.6  0.2] : Label 0\n",
      "Row 12\t: Features [ 4.8  3.   1.4  0.1] : Label 0\n",
      "Row 13\t: Features [ 4.3  3.   1.1  0.1] : Label 0\n",
      "Row 14\t: Features [ 5.8  4.   1.2  0.2] : Label 0\n",
      "Row 15\t: Features [ 5.7  4.4  1.5  0.4] : Label 0\n",
      "Row 16\t: Features [ 5.4  3.9  1.3  0.4] : Label 0\n",
      "Row 17\t: Features [ 5.1  3.5  1.4  0.3] : Label 0\n",
      "Row 18\t: Features [ 5.7  3.8  1.7  0.3] : Label 0\n",
      "Row 19\t: Features [ 5.1  3.8  1.5  0.3] : Label 0\n",
      "Row 20\t: Features [ 5.4  3.4  1.7  0.2] : Label 0\n",
      "Row 21\t: Features [ 5.1  3.7  1.5  0.4] : Label 0\n",
      "Row 22\t: Features [ 4.6  3.6  1.   0.2] : Label 0\n",
      "Row 23\t: Features [ 5.1  3.3  1.7  0.5] : Label 0\n",
      "Row 24\t: Features [ 4.8  3.4  1.9  0.2] : Label 0\n",
      "Row 25\t: Features [ 5.   3.   1.6  0.2] : Label 0\n",
      "Row 26\t: Features [ 5.   3.4  1.6  0.4] : Label 0\n",
      "Row 27\t: Features [ 5.2  3.5  1.5  0.2] : Label 0\n",
      "Row 28\t: Features [ 5.2  3.4  1.4  0.2] : Label 0\n",
      "Row 29\t: Features [ 4.7  3.2  1.6  0.2] : Label 0\n",
      "Row 30\t: Features [ 4.8  3.1  1.6  0.2] : Label 0\n",
      "Row 31\t: Features [ 5.4  3.4  1.5  0.4] : Label 0\n",
      "Row 32\t: Features [ 5.2  4.1  1.5  0.1] : Label 0\n",
      "Row 33\t: Features [ 5.5  4.2  1.4  0.2] : Label 0\n",
      "Row 34\t: Features [ 4.9  3.1  1.5  0.1] : Label 0\n",
      "Row 35\t: Features [ 5.   3.2  1.2  0.2] : Label 0\n",
      "Row 36\t: Features [ 5.5  3.5  1.3  0.2] : Label 0\n",
      "Row 37\t: Features [ 4.9  3.1  1.5  0.1] : Label 0\n",
      "Row 38\t: Features [ 4.4  3.   1.3  0.2] : Label 0\n",
      "Row 39\t: Features [ 5.1  3.4  1.5  0.2] : Label 0\n",
      "Row 40\t: Features [ 5.   3.5  1.3  0.3] : Label 0\n",
      "Row 41\t: Features [ 4.5  2.3  1.3  0.3] : Label 0\n",
      "Row 42\t: Features [ 4.4  3.2  1.3  0.2] : Label 0\n",
      "Row 43\t: Features [ 5.   3.5  1.6  0.6] : Label 0\n",
      "Row 44\t: Features [ 5.1  3.8  1.9  0.4] : Label 0\n",
      "Row 45\t: Features [ 4.8  3.   1.4  0.3] : Label 0\n",
      "Row 46\t: Features [ 5.1  3.8  1.6  0.2] : Label 0\n",
      "Row 47\t: Features [ 4.6  3.2  1.4  0.2] : Label 0\n",
      "Row 48\t: Features [ 5.3  3.7  1.5  0.2] : Label 0\n",
      "Row 49\t: Features [ 5.   3.3  1.4  0.2] : Label 0\n",
      "Row 50\t: Features [ 7.   3.2  4.7  1.4] : Label 1\n",
      "Row 51\t: Features [ 6.4  3.2  4.5  1.5] : Label 1\n",
      "Row 52\t: Features [ 6.9  3.1  4.9  1.5] : Label 1\n",
      "Row 53\t: Features [ 5.5  2.3  4.   1.3] : Label 1\n",
      "Row 54\t: Features [ 6.5  2.8  4.6  1.5] : Label 1\n",
      "Row 55\t: Features [ 5.7  2.8  4.5  1.3] : Label 1\n",
      "Row 56\t: Features [ 6.3  3.3  4.7  1.6] : Label 1\n",
      "Row 57\t: Features [ 4.9  2.4  3.3  1. ] : Label 1\n",
      "Row 58\t: Features [ 6.6  2.9  4.6  1.3] : Label 1\n",
      "Row 59\t: Features [ 5.2  2.7  3.9  1.4] : Label 1\n",
      "Row 60\t: Features [ 5.   2.   3.5  1. ] : Label 1\n",
      "Row 61\t: Features [ 5.9  3.   4.2  1.5] : Label 1\n",
      "Row 62\t: Features [ 6.   2.2  4.   1. ] : Label 1\n",
      "Row 63\t: Features [ 6.1  2.9  4.7  1.4] : Label 1\n",
      "Row 64\t: Features [ 5.6  2.9  3.6  1.3] : Label 1\n",
      "Row 65\t: Features [ 6.7  3.1  4.4  1.4] : Label 1\n",
      "Row 66\t: Features [ 5.6  3.   4.5  1.5] : Label 1\n",
      "Row 67\t: Features [ 5.8  2.7  4.1  1. ] : Label 1\n",
      "Row 68\t: Features [ 6.2  2.2  4.5  1.5] : Label 1\n",
      "Row 69\t: Features [ 5.6  2.5  3.9  1.1] : Label 1\n",
      "Row 70\t: Features [ 5.9  3.2  4.8  1.8] : Label 1\n",
      "Row 71\t: Features [ 6.1  2.8  4.   1.3] : Label 1\n",
      "Row 72\t: Features [ 6.3  2.5  4.9  1.5] : Label 1\n",
      "Row 73\t: Features [ 6.1  2.8  4.7  1.2] : Label 1\n",
      "Row 74\t: Features [ 6.4  2.9  4.3  1.3] : Label 1\n",
      "Row 75\t: Features [ 6.6  3.   4.4  1.4] : Label 1\n",
      "Row 76\t: Features [ 6.8  2.8  4.8  1.4] : Label 1\n",
      "Row 77\t: Features [ 6.7  3.   5.   1.7] : Label 1\n",
      "Row 78\t: Features [ 6.   2.9  4.5  1.5] : Label 1\n",
      "Row 79\t: Features [ 5.7  2.6  3.5  1. ] : Label 1\n",
      "Row 80\t: Features [ 5.5  2.4  3.8  1.1] : Label 1\n",
      "Row 81\t: Features [ 5.5  2.4  3.7  1. ] : Label 1\n",
      "Row 82\t: Features [ 5.8  2.7  3.9  1.2] : Label 1\n",
      "Row 83\t: Features [ 6.   2.7  5.1  1.6] : Label 1\n",
      "Row 84\t: Features [ 5.4  3.   4.5  1.5] : Label 1\n",
      "Row 85\t: Features [ 6.   3.4  4.5  1.6] : Label 1\n",
      "Row 86\t: Features [ 6.7  3.1  4.7  1.5] : Label 1\n",
      "Row 87\t: Features [ 6.3  2.3  4.4  1.3] : Label 1\n",
      "Row 88\t: Features [ 5.6  3.   4.1  1.3] : Label 1\n",
      "Row 89\t: Features [ 5.5  2.5  4.   1.3] : Label 1\n",
      "Row 90\t: Features [ 5.5  2.6  4.4  1.2] : Label 1\n",
      "Row 91\t: Features [ 6.1  3.   4.6  1.4] : Label 1\n",
      "Row 92\t: Features [ 5.8  2.6  4.   1.2] : Label 1\n",
      "Row 93\t: Features [ 5.   2.3  3.3  1. ] : Label 1\n",
      "Row 94\t: Features [ 5.6  2.7  4.2  1.3] : Label 1\n",
      "Row 95\t: Features [ 5.7  3.   4.2  1.2] : Label 1\n",
      "Row 96\t: Features [ 5.7  2.9  4.2  1.3] : Label 1\n",
      "Row 97\t: Features [ 6.2  2.9  4.3  1.3] : Label 1\n",
      "Row 98\t: Features [ 5.1  2.5  3.   1.1] : Label 1\n",
      "Row 99\t: Features [ 5.7  2.8  4.1  1.3] : Label 1\n",
      "Row 100\t: Features [ 6.3  3.3  6.   2.5] : Label 2\n",
      "Row 101\t: Features [ 5.8  2.7  5.1  1.9] : Label 2\n",
      "Row 102\t: Features [ 7.1  3.   5.9  2.1] : Label 2\n",
      "Row 103\t: Features [ 6.3  2.9  5.6  1.8] : Label 2\n",
      "Row 104\t: Features [ 6.5  3.   5.8  2.2] : Label 2\n",
      "Row 105\t: Features [ 7.6  3.   6.6  2.1] : Label 2\n",
      "Row 106\t: Features [ 4.9  2.5  4.5  1.7] : Label 2\n",
      "Row 107\t: Features [ 7.3  2.9  6.3  1.8] : Label 2\n",
      "Row 108\t: Features [ 6.7  2.5  5.8  1.8] : Label 2\n",
      "Row 109\t: Features [ 7.2  3.6  6.1  2.5] : Label 2\n",
      "Row 110\t: Features [ 6.5  3.2  5.1  2. ] : Label 2\n",
      "Row 111\t: Features [ 6.4  2.7  5.3  1.9] : Label 2\n",
      "Row 112\t: Features [ 6.8  3.   5.5  2.1] : Label 2\n",
      "Row 113\t: Features [ 5.7  2.5  5.   2. ] : Label 2\n",
      "Row 114\t: Features [ 5.8  2.8  5.1  2.4] : Label 2\n",
      "Row 115\t: Features [ 6.4  3.2  5.3  2.3] : Label 2\n",
      "Row 116\t: Features [ 6.5  3.   5.5  1.8] : Label 2\n",
      "Row 117\t: Features [ 7.7  3.8  6.7  2.2] : Label 2\n",
      "Row 118\t: Features [ 7.7  2.6  6.9  2.3] : Label 2\n",
      "Row 119\t: Features [ 6.   2.2  5.   1.5] : Label 2\n",
      "Row 120\t: Features [ 6.9  3.2  5.7  2.3] : Label 2\n",
      "Row 121\t: Features [ 5.6  2.8  4.9  2. ] : Label 2\n",
      "Row 122\t: Features [ 7.7  2.8  6.7  2. ] : Label 2\n",
      "Row 123\t: Features [ 6.3  2.7  4.9  1.8] : Label 2\n",
      "Row 124\t: Features [ 6.7  3.3  5.7  2.1] : Label 2\n",
      "Row 125\t: Features [ 7.2  3.2  6.   1.8] : Label 2\n",
      "Row 126\t: Features [ 6.2  2.8  4.8  1.8] : Label 2\n",
      "Row 127\t: Features [ 6.1  3.   4.9  1.8] : Label 2\n",
      "Row 128\t: Features [ 6.4  2.8  5.6  2.1] : Label 2\n",
      "Row 129\t: Features [ 7.2  3.   5.8  1.6] : Label 2\n",
      "Row 130\t: Features [ 7.4  2.8  6.1  1.9] : Label 2\n",
      "Row 131\t: Features [ 7.9  3.8  6.4  2. ] : Label 2\n",
      "Row 132\t: Features [ 6.4  2.8  5.6  2.2] : Label 2\n",
      "Row 133\t: Features [ 6.3  2.8  5.1  1.5] : Label 2\n",
      "Row 134\t: Features [ 6.1  2.6  5.6  1.4] : Label 2\n",
      "Row 135\t: Features [ 7.7  3.   6.1  2.3] : Label 2\n",
      "Row 136\t: Features [ 6.3  3.4  5.6  2.4] : Label 2\n",
      "Row 137\t: Features [ 6.4  3.1  5.5  1.8] : Label 2\n",
      "Row 138\t: Features [ 6.   3.   4.8  1.8] : Label 2\n",
      "Row 139\t: Features [ 6.9  3.1  5.4  2.1] : Label 2\n",
      "Row 140\t: Features [ 6.7  3.1  5.6  2.4] : Label 2\n",
      "Row 141\t: Features [ 6.9  3.1  5.1  2.3] : Label 2\n",
      "Row 142\t: Features [ 5.8  2.7  5.1  1.9] : Label 2\n",
      "Row 143\t: Features [ 6.8  3.2  5.9  2.3] : Label 2\n",
      "Row 144\t: Features [ 6.7  3.3  5.7  2.5] : Label 2\n",
      "Row 145\t: Features [ 6.7  3.   5.2  2.3] : Label 2\n",
      "Row 146\t: Features [ 6.3  2.5  5.   1.9] : Label 2\n",
      "Row 147\t: Features [ 6.5  3.   5.2  2. ] : Label 2\n",
      "Row 148\t: Features [ 6.2  3.4  5.4  2.3] : Label 2\n",
      "Row 149\t: Features [ 5.9  3.   5.1  1.8] : Label 2\n"
     ]
    }
   ],
   "source": [
    "# Show all data\n",
    "for i in range(len(iris.target)):\n",
    "    print(\"Row {}\\t: Features {} : Label {}\".format(i, iris.data[i], iris.target[i]))"
   ]
  },
  {
   "cell_type": "code",
   "execution_count": 149,
   "metadata": {},
   "outputs": [],
   "source": [
    "X = iris.data\n",
    "y = iris.target\n",
    "\n",
    "from sklearn.cross_validation import train_test_split\n",
    "X_train, X_test, y_train, y_test = train_test_split(X, y, test_size=0.8, random_state=1234)"
   ]
  },
  {
   "cell_type": "code",
   "execution_count": 150,
   "metadata": {},
   "outputs": [
    {
     "data": {
      "text/plain": [
       "DecisionTreeClassifier(class_weight=None, criterion='gini', max_depth=None,\n",
       "            max_features=None, max_leaf_nodes=None, min_samples_leaf=1,\n",
       "            min_samples_split=2, min_weight_fraction_leaf=0.0,\n",
       "            presort=False, random_state=None, splitter='best')"
      ]
     },
     "execution_count": 150,
     "metadata": {},
     "output_type": "execute_result"
    }
   ],
   "source": [
    "# train the classifier\n",
    "clf = tree.DecisionTreeClassifier()\n",
    "clf.fit(X_train, y_train)"
   ]
  },
  {
   "cell_type": "code",
   "execution_count": 151,
   "metadata": {},
   "outputs": [
    {
     "data": {
      "text/plain": [
       "0.94166666666666665"
      ]
     },
     "execution_count": 151,
     "metadata": {},
     "output_type": "execute_result"
    }
   ],
   "source": [
    "# now let's predict\n",
    "y_predictions = clf.predict(X_test)\n",
    "from sklearn.metrics import accuracy_score\n",
    "\n",
    "accuracy_score(y_test, y_predictions)"
   ]
  },
  {
   "cell_type": "code",
   "execution_count": 152,
   "metadata": {},
   "outputs": [],
   "source": [
    "# confusion matrix\n",
    "from sklearn.metrics import confusion_matrix\n",
    "cnf_matrix = confusion_matrix(y_test, y_predictions)"
   ]
  },
  {
   "cell_type": "code",
   "execution_count": 153,
   "metadata": {},
   "outputs": [
    {
     "name": "stdout",
     "output_type": "stream",
     "text": [
      "Confusion matrix, without normalization\n",
      "[[39  0  0]\n",
      " [ 0 39  4]\n",
      " [ 0  3 35]]\n",
      "Normalized confusion matrix\n",
      "[[ 1.        0.        0.      ]\n",
      " [ 0.        0.906977  0.093023]\n",
      " [ 0.        0.078947  0.921053]]\n"
     ]
    },
    {
     "data": {
      "image/png": "[encoded data removed]",
      "text/plain": [
       "<matplotlib.figure.Figure at 0x10ee1f9b0>"
      ]
     },
     "metadata": {},
     "output_type": "display_data"
    },
    {
     "data": {
      "image/png": "[encoded data removed]",
      "text/plain": [
       "<matplotlib.figure.Figure at 0x10ee1f128>"
      ]
     },
     "metadata": {},
     "output_type": "display_data"
    }
   ],
   "source": [
    "import itertools\n",
    "import matplotlib.pyplot as plt\n",
    "\n",
    "def plot_confusion_matrix(cm, classes,\n",
    "                          normalize=False,\n",
    "                          title='Confusion matrix',\n",
    "                          cmap=plt.cm.Blues):\n",
    "    \"\"\"\n",
    "    This function prints and plots the confusion matrix.\n",
    "    Normalization can be applied by setting `normalize=True`.\n",
    "    \"\"\"\n",
    "    plt.imshow(cm, interpolation='nearest', cmap=cmap)\n",
    "    plt.title(title)\n",
    "    plt.colorbar()\n",
    "    tick_marks = np.arange(len(classes))\n",
    "    plt.xticks(tick_marks, classes, rotation=45)\n",
    "    plt.yticks(tick_marks, classes)\n",
    "\n",
    "    if normalize:\n",
    "        cm = cm.astype('float') / cm.sum(axis=1)[:, np.newaxis]\n",
    "        cm = np.around(cm, decimals=6)\n",
    "        print(\"Normalized confusion matrix\")\n",
    "    else:\n",
    "        print('Confusion matrix, without normalization')\n",
    "\n",
    "    print(cm)\n",
    "\n",
    "    thresh = cm.max() / 2.\n",
    "    for i, j in itertools.product(range(cm.shape[0]), range(cm.shape[1])):\n",
    "        plt.text(j, i, cm[i, j],\n",
    "                 horizontalalignment=\"center\",\n",
    "                 color=\"white\" if cm[i, j] > thresh else \"black\")\n",
    "\n",
    "    plt.tight_layout()\n",
    "    plt.ylabel('True label')\n",
    "    plt.xlabel('Predicted label')\n",
    "\n",
    "# Plot non-normalized confusion matrix\n",
    "plot_confusion_matrix(cnf_matrix, classes=class_names,\n",
    "                      title='Confusion matrix, without normalization')\n",
    "\n",
    "# Plot normalized confusion matrix\n",
    "plt.figure()\n",
    "plot_confusion_matrix(cnf_matrix, classes=class_names, normalize=True,\n",
    "                      title='Normalized confusion matrix')\n",
    "\n",
    "plt.show()"
   ]
  },
  {
   "cell_type": "code",
   "execution_count": 154,
   "metadata": {},
   "outputs": [],
   "source": [
    "# try to visualize the tree\n",
    "tree.export_graphviz(clf, \n",
    "                     out_file='tree.dot', \n",
    "                     impurity=False,\n",
    "                     filled=True, \n",
    "                     rounded=True,\n",
    "                     feature_names=iris.feature_names,\n",
    "                     class_names=iris.target_names)\n",
    "# on the terminal run (graphviz needs to be installed)\n",
    "# dot -Tpng tree.dot -o tree.png"
   ]
  }
 ],
 "metadata": {
  "kernelspec": {
   "display_name": "Python [Root]",
   "language": "python",
   "name": "Python [Root]"
  },
  "language_info": {
   "codemirror_mode": {
    "name": "ipython",
    "version": 3
   },
   "file_extension": ".py",
   "mimetype": "text/x-python",
   "name": "python",
   "nbconvert_exporter": "python",
   "pygments_lexer": "ipython3",
   "version": "3.5.2"
  }
 },
 "nbformat": 4,
 "nbformat_minor": 2
}
