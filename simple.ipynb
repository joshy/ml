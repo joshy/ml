{
 "cells": [
  {
   "cell_type": "markdown",
   "metadata": {},
   "source": [
    "# ML intro\n",
    "Based on https://www.youtube.com/watch?v=cKxRvEZd3Mw"
   ]
  },
  {
   "cell_type": "markdown",
   "metadata": {},
   "source": [
    "Problem: Classify apple vs oranges\n",
    "\n",
    "Training data\n",
    "\n",
    "|Weight|Texture|Label|\n",
    "|------|-------|-----|\n",
    "|150g | Bumpy | Orange|\n",
    "|170g | Bumpy | Orange|\n",
    "|140g | Smooth| Apple|\n",
    "|130g | Smooth | Apple|"
   ]
  },
  {
   "cell_type": "code",
   "execution_count": 18,
   "metadata": {},
   "outputs": [
    {
     "data": {
      "text/plain": [
       "DecisionTreeClassifier(class_weight=None, criterion='gini', max_depth=None,\n",
       "            max_features=None, max_leaf_nodes=None, min_samples_leaf=1,\n",
       "            min_samples_split=2, min_weight_fraction_leaf=0.0,\n",
       "            presort=False, random_state=None, splitter='best')"
      ]
     },
     "execution_count": 18,
     "metadata": {},
     "output_type": "execute_result"
    }
   ],
   "source": [
    "import sklearn\n",
    "from sklearn import tree\n",
    "\n",
    "# translate \n",
    "smooth = 1\n",
    "bumpy = 0\n",
    "\n",
    "apple = 0\n",
    "orange = 1\n",
    "\n",
    "# input to classifier\n",
    "features  = [[140, smooth], [130, smooth], [150, bumpy], [170, bumpy]]\n",
    "# output\n",
    "labels = [apple, apple, orange, orange]\n",
    "\n",
    "# Train the classifier\n",
    "clf = tree.DecisionTreeClassifier()\n",
    "clf.fit(features, labels)"
   ]
  },
  {
   "cell_type": "code",
   "execution_count": 19,
   "metadata": {},
   "outputs": [
    {
     "name": "stdout",
     "output_type": "stream",
     "text": [
      "Classifier guess: orange\n"
     ]
    }
   ],
   "source": [
    "# Use the classifier\n",
    "# let's classify a new item\n",
    "unknown = [[150, bumpy]]\n",
    "prediction = clf.predict(unknown)\n",
    "fruit = 'orange' if prediction == [1] else 'apple'\n",
    "print('Classifier guess: {}'.format(fruit))"
   ]
  }
 ],
 "metadata": {
  "kernelspec": {
   "display_name": "Python [Root]",
   "language": "python",
   "name": "Python [Root]"
  },
  "language_info": {
   "codemirror_mode": {
    "name": "ipython",
    "version": 3
   },
   "file_extension": ".py",
   "mimetype": "text/x-python",
   "name": "python",
   "nbconvert_exporter": "python",
   "pygments_lexer": "ipython3",
   "version": "3.5.2"
  }
 },
 "nbformat": 4,
 "nbformat_minor": 2
}
